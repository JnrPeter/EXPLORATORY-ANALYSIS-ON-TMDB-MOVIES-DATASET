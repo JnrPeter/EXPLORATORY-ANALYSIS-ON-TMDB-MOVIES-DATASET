{
 "cells": [
  {
   "cell_type": "code",
   "execution_count": 135,
   "id": "3dd9e829",
   "metadata": {},
   "outputs": [],
   "source": [
    "#Importing the necessary libraries for the project\n",
    "\n",
    "import matplotlib.pyplot as plt\n",
    "%matplotlib inline\n",
    "import seaborn as sns\n",
    "import pandas as pd\n",
    "import numpy as np\n",
    "import calendar\n",
    "sns.set_style('darkgrid')\n",
    "\n",
    "import itertools"
   ]
  },
  {
   "cell_type": "markdown",
   "id": "7041ce20",
   "metadata": {},
   "source": [
    "# INTRODUCTION"
   ]
  },
  {
   "cell_type": "markdown",
   "id": "063d97cd",
   "metadata": {},
   "source": [
    "#### An exploratory data analysis was performed an a dataset collected from the Movie Database (TMDb). The dataset contains information about 10,000 movies including information on user ratings and revenue. The Project has been organized into three seperate steps:\n",
    "\n",
    "* Data Wrangling\n",
    "* Exploratory Analysis\n",
    "* Conclusions and Limitations\n",
    " \n",
    "   "
   ]
  },
  {
   "cell_type": "code",
   "execution_count": 136,
   "id": "f6ef7131",
   "metadata": {},
   "outputs": [],
   "source": [
    "#loading the dataset to be used for the project\n",
    "\n",
    "df = pd.read_csv(\"tmdb-movies.csv\")"
   ]
  },
  {
   "cell_type": "markdown",
   "id": "d77ab16c",
   "metadata": {},
   "source": [
    "# WRANGLING THE DATA TO PREPARE IT FOR FOR ANALYSIS"
   ]
  },
  {
   "cell_type": "code",
   "execution_count": 137,
   "id": "3c333623",
   "metadata": {},
   "outputs": [
    {
     "name": "stdout",
     "output_type": "stream",
     "text": [
      "<class 'pandas.core.frame.DataFrame'>\n",
      "RangeIndex: 10866 entries, 0 to 10865\n",
      "Data columns (total 21 columns):\n",
      " #   Column                Non-Null Count  Dtype  \n",
      "---  ------                --------------  -----  \n",
      " 0   id                    10866 non-null  int64  \n",
      " 1   imdb_id               10856 non-null  object \n",
      " 2   popularity            10866 non-null  float64\n",
      " 3   budget                10866 non-null  int64  \n",
      " 4   revenue               10866 non-null  int64  \n",
      " 5   original_title        10866 non-null  object \n",
      " 6   cast                  10790 non-null  object \n",
      " 7   homepage              2936 non-null   object \n",
      " 8   director              10822 non-null  object \n",
      " 9   tagline               8042 non-null   object \n",
      " 10  keywords              9373 non-null   object \n",
      " 11  overview              10862 non-null  object \n",
      " 12  runtime               10866 non-null  int64  \n",
      " 13  genres                10843 non-null  object \n",
      " 14  production_companies  9836 non-null   object \n",
      " 15  release_date          10866 non-null  object \n",
      " 16  vote_count            10866 non-null  int64  \n",
      " 17  vote_average          10866 non-null  float64\n",
      " 18  release_year          10866 non-null  int64  \n",
      " 19  budget_adj            10866 non-null  float64\n",
      " 20  revenue_adj           10866 non-null  float64\n",
      "dtypes: float64(4), int64(6), object(11)\n",
      "memory usage: 1.7+ MB\n"
     ]
    }
   ],
   "source": [
    "#Checking out the general information of the dataset. The number of columns and rows, as well the datatypes.\n",
    "\n",
    "df.info()\n",
    "\n",
    "#From the results it can be seen that the dataframe has 21 columns and 10866 rows. "
   ]
  },
  {
   "cell_type": "code",
   "execution_count": 138,
   "id": "b3075578",
   "metadata": {},
   "outputs": [],
   "source": [
    "#DROPPING UNWANTED COLUMNS FROM THE DATASETS. These columns would not be needed to answer any questions in this Project\n",
    "\n",
    "df.drop(['imdb_id','budget', 'revenue', 'homepage','keywords','overview','vote_count','vote_average'], axis=1, inplace=True)\n",
    "\n"
   ]
  },
  {
   "cell_type": "code",
   "execution_count": 139,
   "id": "8b2c8df6",
   "metadata": {},
   "outputs": [
    {
     "name": "stdout",
     "output_type": "stream",
     "text": [
      "<class 'pandas.core.frame.DataFrame'>\n",
      "RangeIndex: 10866 entries, 0 to 10865\n",
      "Data columns (total 13 columns):\n",
      " #   Column                Non-Null Count  Dtype  \n",
      "---  ------                --------------  -----  \n",
      " 0   id                    10866 non-null  int64  \n",
      " 1   popularity            10866 non-null  float64\n",
      " 2   original_title        10866 non-null  object \n",
      " 3   cast                  10790 non-null  object \n",
      " 4   director              10822 non-null  object \n",
      " 5   tagline               8042 non-null   object \n",
      " 6   runtime               10866 non-null  int64  \n",
      " 7   genres                10843 non-null  object \n",
      " 8   production_companies  9836 non-null   object \n",
      " 9   release_date          10866 non-null  object \n",
      " 10  release_year          10866 non-null  int64  \n",
      " 11  budget_adj            10866 non-null  float64\n",
      " 12  revenue_adj           10866 non-null  float64\n",
      "dtypes: float64(3), int64(3), object(7)\n",
      "memory usage: 1.1+ MB\n"
     ]
    }
   ],
   "source": [
    "#Checking the dataframe to ensure that the columns have been dropped.\n",
    "df.info()"
   ]
  },
  {
   "cell_type": "code",
   "execution_count": 140,
   "id": "7d5651c4",
   "metadata": {},
   "outputs": [
    {
     "data": {
      "text/plain": [
       "id                      False\n",
       "popularity              False\n",
       "original_title          False\n",
       "cast                     True\n",
       "director                 True\n",
       "tagline                  True\n",
       "runtime                 False\n",
       "genres                   True\n",
       "production_companies     True\n",
       "release_date            False\n",
       "release_year            False\n",
       "budget_adj              False\n",
       "revenue_adj             False\n",
       "dtype: bool"
      ]
     },
     "execution_count": 140,
     "metadata": {},
     "output_type": "execute_result"
    }
   ],
   "source": [
    "#checking the dataframe for columns with missing values or non zero values or null/Nan values.\n",
    "df.isna().any()"
   ]
  },
  {
   "cell_type": "code",
   "execution_count": 141,
   "id": "8b6d2d8e",
   "metadata": {},
   "outputs": [
    {
     "data": {
      "text/plain": [
       "id                      False\n",
       "popularity              False\n",
       "original_title          False\n",
       "cast                    False\n",
       "director                False\n",
       "tagline                 False\n",
       "runtime                 False\n",
       "genres                  False\n",
       "production_companies    False\n",
       "release_date            False\n",
       "release_year            False\n",
       "budget_adj              False\n",
       "revenue_adj             False\n",
       "dtype: bool"
      ]
     },
     "execution_count": 141,
     "metadata": {},
     "output_type": "execute_result"
    }
   ],
   "source": [
    "#Dropping the rows with missing data.These non zero values could interfere in analysis if not removed.\n",
    "df.dropna(inplace = True)\n",
    "\n",
    "#checking the dataframe to ensure that the rows with missing data have been removed. \n",
    "df.isna().any()"
   ]
  },
  {
   "cell_type": "code",
   "execution_count": 142,
   "id": "bba7d0e3",
   "metadata": {},
   "outputs": [
    {
     "data": {
      "text/plain": [
       "1"
      ]
     },
     "execution_count": 142,
     "metadata": {},
     "output_type": "execute_result"
    }
   ],
   "source": [
    "#checking the dataframe to see if there is are any duplicates\n",
    "\n",
    "sum(df.duplicated())\n",
    "\n",
    "\n",
    "\n"
   ]
  },
  {
   "cell_type": "code",
   "execution_count": 143,
   "id": "2b0bce8c",
   "metadata": {},
   "outputs": [
    {
     "data": {
      "text/plain": [
       "0"
      ]
     },
     "execution_count": 143,
     "metadata": {},
     "output_type": "execute_result"
    }
   ],
   "source": [
    "#Dropping or removing those duplicates from the dataframe\n",
    "df.drop_duplicates(inplace = True)\n",
    "\n",
    "#checking to see of those duplicates have been removed from the dataframe\n",
    "sum(df.duplicated())"
   ]
  },
  {
   "cell_type": "code",
   "execution_count": 144,
   "id": "df6aa1a5",
   "metadata": {},
   "outputs": [
    {
     "name": "stdout",
     "output_type": "stream",
     "text": [
      "<class 'pandas.core.frame.DataFrame'>\n",
      "Int64Index: 7635 entries, 0 to 10865\n",
      "Data columns (total 13 columns):\n",
      " #   Column                Non-Null Count  Dtype  \n",
      "---  ------                --------------  -----  \n",
      " 0   id                    7635 non-null   int64  \n",
      " 1   popularity            7635 non-null   float64\n",
      " 2   original_title        7635 non-null   object \n",
      " 3   cast                  7635 non-null   object \n",
      " 4   director              7635 non-null   object \n",
      " 5   tagline               7635 non-null   object \n",
      " 6   runtime               7635 non-null   int64  \n",
      " 7   genres                7635 non-null   object \n",
      " 8   production_companies  7635 non-null   object \n",
      " 9   release_date          7635 non-null   object \n",
      " 10  release_year          7635 non-null   int64  \n",
      " 11  budget_adj            7635 non-null   float64\n",
      " 12  revenue_adj           7635 non-null   float64\n",
      "dtypes: float64(3), int64(3), object(7)\n",
      "memory usage: 835.1+ KB\n"
     ]
    }
   ],
   "source": [
    "df.info()\n",
    "\n",
    "#From the information below about the dataset , it is clear that the datatype for the release date is not appropraite and thus \n",
    "#have to be changed from an integer to a datetime.\n"
   ]
  },
  {
   "cell_type": "code",
   "execution_count": 145,
   "id": "c22c808a",
   "metadata": {
    "scrolled": true
   },
   "outputs": [
    {
     "name": "stdout",
     "output_type": "stream",
     "text": [
      "<class 'pandas.core.frame.DataFrame'>\n",
      "Int64Index: 7635 entries, 0 to 10865\n",
      "Data columns (total 13 columns):\n",
      " #   Column                Non-Null Count  Dtype         \n",
      "---  ------                --------------  -----         \n",
      " 0   id                    7635 non-null   int64         \n",
      " 1   popularity            7635 non-null   float64       \n",
      " 2   original_title        7635 non-null   object        \n",
      " 3   cast                  7635 non-null   object        \n",
      " 4   director              7635 non-null   object        \n",
      " 5   tagline               7635 non-null   object        \n",
      " 6   runtime               7635 non-null   int64         \n",
      " 7   genres                7635 non-null   object        \n",
      " 8   production_companies  7635 non-null   object        \n",
      " 9   release_date          7635 non-null   datetime64[ns]\n",
      " 10  release_year          7635 non-null   int64         \n",
      " 11  budget_adj            7635 non-null   float64       \n",
      " 12  revenue_adj           7635 non-null   float64       \n",
      "dtypes: datetime64[ns](1), float64(3), int64(3), object(6)\n",
      "memory usage: 835.1+ KB\n"
     ]
    }
   ],
   "source": [
    "#Converting the release_date column datatype to a datetime\n",
    "\n",
    "df['release_date'] = pd.to_datetime(df['release_date'])\n",
    "\n",
    "#Checking the dataframe to ensure that the release_date column datatype has been changed\n",
    "df.info()"
   ]
  },
  {
   "cell_type": "code",
   "execution_count": 146,
   "id": "8f583e7e",
   "metadata": {},
   "outputs": [
    {
     "data": {
      "text/plain": [
       "True"
      ]
     },
     "execution_count": 146,
     "metadata": {},
     "output_type": "execute_result"
    }
   ],
   "source": [
    "#Checking if there are any zero values present in the dataframe. These zero values when present, especially in the numerical \n",
    "# datatype columns can interfere in the analysis of the data.\n",
    "\n",
    "0 in df.values"
   ]
  },
  {
   "cell_type": "code",
   "execution_count": 147,
   "id": "6ebf33d6",
   "metadata": {},
   "outputs": [
    {
     "data": {
      "text/html": [
       "<div>\n",
       "<style scoped>\n",
       "    .dataframe tbody tr th:only-of-type {\n",
       "        vertical-align: middle;\n",
       "    }\n",
       "\n",
       "    .dataframe tbody tr th {\n",
       "        vertical-align: top;\n",
       "    }\n",
       "\n",
       "    .dataframe thead th {\n",
       "        text-align: right;\n",
       "    }\n",
       "</style>\n",
       "<table border=\"1\" class=\"dataframe\">\n",
       "  <thead>\n",
       "    <tr style=\"text-align: right;\">\n",
       "      <th></th>\n",
       "      <th>id</th>\n",
       "      <th>popularity</th>\n",
       "      <th>original_title</th>\n",
       "      <th>cast</th>\n",
       "      <th>director</th>\n",
       "      <th>tagline</th>\n",
       "      <th>runtime</th>\n",
       "      <th>genres</th>\n",
       "      <th>production_companies</th>\n",
       "      <th>release_date</th>\n",
       "      <th>release_year</th>\n",
       "      <th>budget_adj</th>\n",
       "      <th>revenue_adj</th>\n",
       "    </tr>\n",
       "  </thead>\n",
       "  <tbody>\n",
       "    <tr>\n",
       "      <th>30</th>\n",
       "      <td>280996</td>\n",
       "      <td>3.927333</td>\n",
       "      <td>Mr. Holmes</td>\n",
       "      <td>Ian McKellen|Milo Parker|Laura Linney|Hattie M...</td>\n",
       "      <td>Bill Condon</td>\n",
       "      <td>The man behind the myth</td>\n",
       "      <td>103</td>\n",
       "      <td>Mystery|Drama</td>\n",
       "      <td>BBC Films|See-Saw Films|FilmNation Entertainme...</td>\n",
       "      <td>2015-06-19</td>\n",
       "      <td>2015</td>\n",
       "      <td>0.000000e+00</td>\n",
       "      <td>27006774.88</td>\n",
       "    </tr>\n",
       "    <tr>\n",
       "      <th>36</th>\n",
       "      <td>339527</td>\n",
       "      <td>3.358321</td>\n",
       "      <td>Solace</td>\n",
       "      <td>Abbie Cornish|Jeffrey Dean Morgan|Colin Farrel...</td>\n",
       "      <td>Afonso Poyart</td>\n",
       "      <td>A serial killer who can see your future, a psy...</td>\n",
       "      <td>101</td>\n",
       "      <td>Crime|Drama|Mystery</td>\n",
       "      <td>Eden Rock Media|FilmNation Entertainment|Flynn...</td>\n",
       "      <td>2015-09-03</td>\n",
       "      <td>2015</td>\n",
       "      <td>0.000000e+00</td>\n",
       "      <td>20566197.19</td>\n",
       "    </tr>\n",
       "    <tr>\n",
       "      <th>48</th>\n",
       "      <td>265208</td>\n",
       "      <td>2.932340</td>\n",
       "      <td>Wild Card</td>\n",
       "      <td>Jason Statham|Michael Angarano|Milo Ventimigli...</td>\n",
       "      <td>Simon West</td>\n",
       "      <td>Never bet against a man with a killer hand.</td>\n",
       "      <td>92</td>\n",
       "      <td>Thriller|Crime|Drama</td>\n",
       "      <td>Current Entertainment|Lionsgate|Sierra / Affin...</td>\n",
       "      <td>2015-01-14</td>\n",
       "      <td>2015</td>\n",
       "      <td>2.759999e+07</td>\n",
       "      <td>0.00</td>\n",
       "    </tr>\n",
       "    <tr>\n",
       "      <th>67</th>\n",
       "      <td>334074</td>\n",
       "      <td>2.331636</td>\n",
       "      <td>Survivor</td>\n",
       "      <td>Pierce Brosnan|Milla Jovovich|Dylan McDermott|...</td>\n",
       "      <td>James McTeigue</td>\n",
       "      <td>His Next Target is Now Hunting Him</td>\n",
       "      <td>96</td>\n",
       "      <td>Crime|Thriller|Action</td>\n",
       "      <td>Nu Image Films|Winkler Films|Millennium Films|...</td>\n",
       "      <td>2015-05-21</td>\n",
       "      <td>2015</td>\n",
       "      <td>1.839999e+07</td>\n",
       "      <td>0.00</td>\n",
       "    </tr>\n",
       "    <tr>\n",
       "      <th>75</th>\n",
       "      <td>308369</td>\n",
       "      <td>2.141506</td>\n",
       "      <td>Me and Earl and the Dying Girl</td>\n",
       "      <td>Thomas Mann|RJ Cyler|Olivia Cooke|Connie Britt...</td>\n",
       "      <td>Alfonso Gomez-Rejon</td>\n",
       "      <td>A Little Friendship Never Killed Anyone.</td>\n",
       "      <td>105</td>\n",
       "      <td>Comedy|Drama</td>\n",
       "      <td>Indian Paintbrush</td>\n",
       "      <td>2015-06-12</td>\n",
       "      <td>2015</td>\n",
       "      <td>0.000000e+00</td>\n",
       "      <td>0.00</td>\n",
       "    </tr>\n",
       "    <tr>\n",
       "      <th>...</th>\n",
       "      <td>...</td>\n",
       "      <td>...</td>\n",
       "      <td>...</td>\n",
       "      <td>...</td>\n",
       "      <td>...</td>\n",
       "      <td>...</td>\n",
       "      <td>...</td>\n",
       "      <td>...</td>\n",
       "      <td>...</td>\n",
       "      <td>...</td>\n",
       "      <td>...</td>\n",
       "      <td>...</td>\n",
       "      <td>...</td>\n",
       "    </tr>\n",
       "    <tr>\n",
       "      <th>10858</th>\n",
       "      <td>31918</td>\n",
       "      <td>0.317824</td>\n",
       "      <td>The Russians Are Coming, The Russians Are Coming</td>\n",
       "      <td>Carl Reiner|Eva Marie Saint|Alan Arkin|Brian K...</td>\n",
       "      <td>Norman Jewison</td>\n",
       "      <td>IT'S A PLOT! ...to make the world die laughing!!</td>\n",
       "      <td>126</td>\n",
       "      <td>Comedy|War</td>\n",
       "      <td>The Mirisch Corporation</td>\n",
       "      <td>2066-05-25</td>\n",
       "      <td>1966</td>\n",
       "      <td>0.000000e+00</td>\n",
       "      <td>0.00</td>\n",
       "    </tr>\n",
       "    <tr>\n",
       "      <th>10860</th>\n",
       "      <td>5060</td>\n",
       "      <td>0.087034</td>\n",
       "      <td>Carry On Screaming!</td>\n",
       "      <td>Kenneth Williams|Jim Dale|Harry H. Corbett|Joa...</td>\n",
       "      <td>Gerald Thomas</td>\n",
       "      <td>Carry On Screaming with the Hilarious CARRY ON...</td>\n",
       "      <td>87</td>\n",
       "      <td>Comedy</td>\n",
       "      <td>Peter Rogers Productions|Anglo-Amalgamated Fil...</td>\n",
       "      <td>2066-05-20</td>\n",
       "      <td>1966</td>\n",
       "      <td>0.000000e+00</td>\n",
       "      <td>0.00</td>\n",
       "    </tr>\n",
       "    <tr>\n",
       "      <th>10862</th>\n",
       "      <td>20379</td>\n",
       "      <td>0.065543</td>\n",
       "      <td>Grand Prix</td>\n",
       "      <td>James Garner|Eva Marie Saint|Yves Montand|Tosh...</td>\n",
       "      <td>John Frankenheimer</td>\n",
       "      <td>Cinerama sweeps YOU into a drama of speed and ...</td>\n",
       "      <td>176</td>\n",
       "      <td>Action|Adventure|Drama</td>\n",
       "      <td>Cherokee Productions|Joel Productions|Douglas ...</td>\n",
       "      <td>2066-12-21</td>\n",
       "      <td>1966</td>\n",
       "      <td>0.000000e+00</td>\n",
       "      <td>0.00</td>\n",
       "    </tr>\n",
       "    <tr>\n",
       "      <th>10864</th>\n",
       "      <td>21449</td>\n",
       "      <td>0.064317</td>\n",
       "      <td>What's Up, Tiger Lily?</td>\n",
       "      <td>Tatsuya Mihashi|Akiko Wakabayashi|Mie Hama|Joh...</td>\n",
       "      <td>Woody Allen</td>\n",
       "      <td>WOODY ALLEN STRIKES BACK!</td>\n",
       "      <td>80</td>\n",
       "      <td>Action|Comedy</td>\n",
       "      <td>Benedict Pictures Corp.</td>\n",
       "      <td>1966-11-02</td>\n",
       "      <td>1966</td>\n",
       "      <td>0.000000e+00</td>\n",
       "      <td>0.00</td>\n",
       "    </tr>\n",
       "    <tr>\n",
       "      <th>10865</th>\n",
       "      <td>22293</td>\n",
       "      <td>0.035919</td>\n",
       "      <td>Manos: The Hands of Fate</td>\n",
       "      <td>Harold P. Warren|Tom Neyman|John Reynolds|Dian...</td>\n",
       "      <td>Harold P. Warren</td>\n",
       "      <td>It's Shocking! It's Beyond Your Imagination!</td>\n",
       "      <td>74</td>\n",
       "      <td>Horror</td>\n",
       "      <td>Norm-Iris</td>\n",
       "      <td>2066-11-15</td>\n",
       "      <td>1966</td>\n",
       "      <td>1.276423e+05</td>\n",
       "      <td>0.00</td>\n",
       "    </tr>\n",
       "  </tbody>\n",
       "</table>\n",
       "<p>4091 rows × 13 columns</p>\n",
       "</div>"
      ],
      "text/plain": [
       "           id  popularity                                    original_title  \\\n",
       "30     280996    3.927333                                        Mr. Holmes   \n",
       "36     339527    3.358321                                            Solace   \n",
       "48     265208    2.932340                                         Wild Card   \n",
       "67     334074    2.331636                                          Survivor   \n",
       "75     308369    2.141506                    Me and Earl and the Dying Girl   \n",
       "...       ...         ...                                               ...   \n",
       "10858   31918    0.317824  The Russians Are Coming, The Russians Are Coming   \n",
       "10860    5060    0.087034                               Carry On Screaming!   \n",
       "10862   20379    0.065543                                        Grand Prix   \n",
       "10864   21449    0.064317                            What's Up, Tiger Lily?   \n",
       "10865   22293    0.035919                          Manos: The Hands of Fate   \n",
       "\n",
       "                                                    cast             director  \\\n",
       "30     Ian McKellen|Milo Parker|Laura Linney|Hattie M...          Bill Condon   \n",
       "36     Abbie Cornish|Jeffrey Dean Morgan|Colin Farrel...        Afonso Poyart   \n",
       "48     Jason Statham|Michael Angarano|Milo Ventimigli...           Simon West   \n",
       "67     Pierce Brosnan|Milla Jovovich|Dylan McDermott|...       James McTeigue   \n",
       "75     Thomas Mann|RJ Cyler|Olivia Cooke|Connie Britt...  Alfonso Gomez-Rejon   \n",
       "...                                                  ...                  ...   \n",
       "10858  Carl Reiner|Eva Marie Saint|Alan Arkin|Brian K...       Norman Jewison   \n",
       "10860  Kenneth Williams|Jim Dale|Harry H. Corbett|Joa...        Gerald Thomas   \n",
       "10862  James Garner|Eva Marie Saint|Yves Montand|Tosh...   John Frankenheimer   \n",
       "10864  Tatsuya Mihashi|Akiko Wakabayashi|Mie Hama|Joh...          Woody Allen   \n",
       "10865  Harold P. Warren|Tom Neyman|John Reynolds|Dian...     Harold P. Warren   \n",
       "\n",
       "                                                 tagline  runtime  \\\n",
       "30                               The man behind the myth      103   \n",
       "36     A serial killer who can see your future, a psy...      101   \n",
       "48           Never bet against a man with a killer hand.       92   \n",
       "67                    His Next Target is Now Hunting Him       96   \n",
       "75              A Little Friendship Never Killed Anyone.      105   \n",
       "...                                                  ...      ...   \n",
       "10858   IT'S A PLOT! ...to make the world die laughing!!      126   \n",
       "10860  Carry On Screaming with the Hilarious CARRY ON...       87   \n",
       "10862  Cinerama sweeps YOU into a drama of speed and ...      176   \n",
       "10864                          WOODY ALLEN STRIKES BACK!       80   \n",
       "10865       It's Shocking! It's Beyond Your Imagination!       74   \n",
       "\n",
       "                       genres  \\\n",
       "30              Mystery|Drama   \n",
       "36        Crime|Drama|Mystery   \n",
       "48       Thriller|Crime|Drama   \n",
       "67      Crime|Thriller|Action   \n",
       "75               Comedy|Drama   \n",
       "...                       ...   \n",
       "10858              Comedy|War   \n",
       "10860                  Comedy   \n",
       "10862  Action|Adventure|Drama   \n",
       "10864           Action|Comedy   \n",
       "10865                  Horror   \n",
       "\n",
       "                                    production_companies release_date  \\\n",
       "30     BBC Films|See-Saw Films|FilmNation Entertainme...   2015-06-19   \n",
       "36     Eden Rock Media|FilmNation Entertainment|Flynn...   2015-09-03   \n",
       "48     Current Entertainment|Lionsgate|Sierra / Affin...   2015-01-14   \n",
       "67     Nu Image Films|Winkler Films|Millennium Films|...   2015-05-21   \n",
       "75                                     Indian Paintbrush   2015-06-12   \n",
       "...                                                  ...          ...   \n",
       "10858                            The Mirisch Corporation   2066-05-25   \n",
       "10860  Peter Rogers Productions|Anglo-Amalgamated Fil...   2066-05-20   \n",
       "10862  Cherokee Productions|Joel Productions|Douglas ...   2066-12-21   \n",
       "10864                            Benedict Pictures Corp.   1966-11-02   \n",
       "10865                                          Norm-Iris   2066-11-15   \n",
       "\n",
       "       release_year    budget_adj  revenue_adj  \n",
       "30             2015  0.000000e+00  27006774.88  \n",
       "36             2015  0.000000e+00  20566197.19  \n",
       "48             2015  2.759999e+07         0.00  \n",
       "67             2015  1.839999e+07         0.00  \n",
       "75             2015  0.000000e+00         0.00  \n",
       "...             ...           ...          ...  \n",
       "10858          1966  0.000000e+00         0.00  \n",
       "10860          1966  0.000000e+00         0.00  \n",
       "10862          1966  0.000000e+00         0.00  \n",
       "10864          1966  0.000000e+00         0.00  \n",
       "10865          1966  1.276423e+05         0.00  \n",
       "\n",
       "[4091 rows x 13 columns]"
      ]
     },
     "execution_count": 147,
     "metadata": {},
     "output_type": "execute_result"
    }
   ],
   "source": [
    "# Querying the dataframe for the numerical columns (revenue_adj,budget_adj,runtime) which contain zero values. \n",
    "#these numerical columns are very crucial to the objectives of the analysis. Hence its important that they don't contain zero values\n",
    "\n",
    "df.query(' runtime ==0 or budget_adj ==0 or revenue_adj ==0')"
   ]
  },
  {
   "cell_type": "code",
   "execution_count": 148,
   "id": "359d429e",
   "metadata": {},
   "outputs": [],
   "source": [
    "# In order to remove the zero values, lets first set them to Null. We can later remove them completely by dropping all the \n",
    "#NULL values.\n",
    "\n",
    "df['budget_adj'].replace(0, np.NAN, inplace=True)\n",
    "df['revenue_adj'].replace(0, np.NAN, inplace=True)\n",
    "df['runtime'].replace(0, np.NAN, inplace=True)"
   ]
  },
  {
   "cell_type": "code",
   "execution_count": 149,
   "id": "8c865647",
   "metadata": {},
   "outputs": [
    {
     "data": {
      "text/plain": [
       "id                      False\n",
       "popularity              False\n",
       "original_title          False\n",
       "cast                    False\n",
       "director                False\n",
       "tagline                 False\n",
       "runtime                  True\n",
       "genres                  False\n",
       "production_companies    False\n",
       "release_date            False\n",
       "release_year            False\n",
       "budget_adj               True\n",
       "revenue_adj              True\n",
       "dtype: bool"
      ]
     },
     "execution_count": 149,
     "metadata": {},
     "output_type": "execute_result"
    }
   ],
   "source": [
    "#Checking the dataframe to ensure that, the zeroes have been replaced with the NAN. The true values for the runtime,budget_adj    \n",
    "# and revenue_adj shows that the zeroes in those fields have been filled with NAN \n",
    "\n",
    "df.isna().any()"
   ]
  },
  {
   "cell_type": "code",
   "execution_count": 150,
   "id": "ece08fb2",
   "metadata": {},
   "outputs": [
    {
     "data": {
      "text/plain": [
       "False"
      ]
     },
     "execution_count": 150,
     "metadata": {},
     "output_type": "execute_result"
    }
   ],
   "source": [
    "#Checking the dataframe to ensure that there are no zero values left\n",
    "0  in df"
   ]
  },
  {
   "cell_type": "code",
   "execution_count": 151,
   "id": "602867ab",
   "metadata": {},
   "outputs": [
    {
     "data": {
      "text/plain": [
       "id                      False\n",
       "popularity              False\n",
       "original_title          False\n",
       "cast                    False\n",
       "director                False\n",
       "tagline                 False\n",
       "runtime                 False\n",
       "genres                  False\n",
       "production_companies    False\n",
       "release_date            False\n",
       "release_year            False\n",
       "budget_adj              False\n",
       "revenue_adj             False\n",
       "dtype: bool"
      ]
     },
     "execution_count": 151,
     "metadata": {},
     "output_type": "execute_result"
    }
   ],
   "source": [
    "#Dropping all the Null or Nan values from the dataframe\n",
    "df.dropna(inplace = True)\n",
    "\n",
    "#checking the dataframe to ensure that the Null or Nan values have been removed. \n",
    "df.isna().any()"
   ]
  },
  {
   "cell_type": "code",
   "execution_count": 152,
   "id": "5e8286e9",
   "metadata": {},
   "outputs": [
    {
     "data": {
      "text/plain": [
       "False"
      ]
     },
     "execution_count": 152,
     "metadata": {},
     "output_type": "execute_result"
    }
   ],
   "source": [
    "#Checking the dataframe again to ensure that there are no zero values left\n",
    "0  in df"
   ]
  },
  {
   "cell_type": "markdown",
   "id": "7a709e1d",
   "metadata": {},
   "source": [
    "# SUMMARY OF THE DATA WRANGLING APPLIED TO THE DATASET\n",
    "\n",
    "- The columns which were not needed for analysis were dropped.\n",
    "- The Null or Nan or missing data values were also removed from the dataframe.\n",
    "- All Duplicates were also removed from the dataframe.\n",
    "- The datatype of a column was changed to an appropraite datatype.\n",
    "- All zero values were removed from the dataframe."
   ]
  },
  {
   "cell_type": "markdown",
   "id": "bb0be173",
   "metadata": {},
   "source": [
    "*************************************************************************************************************************"
   ]
  },
  {
   "cell_type": "markdown",
   "id": "b99236e9",
   "metadata": {},
   "source": [
    "# THE DATA ANALYSIS ON THIS DATASET WAS MOTIVATED BY THE FOLLOWING QUESTIONS:\n",
    "\n",
    " 1. Which movies have good taglines?Are movies with good taglines more popular than those with bad taglines?\n",
    " 2. What is the most popular month for releasing movies?\n",
    " 3. Does movie runtime affect budget?\n",
    " "
   ]
  },
  {
   "cell_type": "markdown",
   "id": "feafc0d0",
   "metadata": {},
   "source": [
    "### Q1. Which movies have good taglines? Are movies with good taglines more popular than those with bad taglines?\n",
    "\n"
   ]
  },
  {
   "cell_type": "code",
   "execution_count": 153,
   "id": "1ba53036",
   "metadata": {},
   "outputs": [],
   "source": [
    "\n",
    "#creating a function to check the number of spaces between words to allow us to count the number of words in the tagline\n",
    "\n",
    "def check_space(Test_string):\n",
    "    return Test_string.count(\" \")\n",
    "\n",
    "    \n"
   ]
  },
  {
   "cell_type": "code",
   "execution_count": 154,
   "id": "73afee16",
   "metadata": {},
   "outputs": [],
   "source": [
    "a = list(df[\"tagline\"])\n",
    "b = list()\n",
    "\n",
    "for i in a:\n",
    "    c = check_space(i) + 1\n",
    "    b.append(c)\n"
   ]
  },
  {
   "cell_type": "code",
   "execution_count": 155,
   "id": "af207a2b",
   "metadata": {
    "scrolled": true
   },
   "outputs": [
    {
     "data": {
      "text/plain": [
       "22                           San Andreas\n",
       "33                       Bridge of Spies\n",
       "97                              The DUFF\n",
       "111                          Dark Places\n",
       "183                                Aloha\n",
       "                      ...               \n",
       "10788                            The Wiz\n",
       "10793                     Watership Down\n",
       "10822    Who's Afraid of Virginia Woolf?\n",
       "10835                   The Sand Pebbles\n",
       "10848                   Fantastic Voyage\n",
       "Name: original_title, Length: 782, dtype: object"
      ]
     },
     "execution_count": 155,
     "metadata": {},
     "output_type": "execute_result"
    }
   ],
   "source": [
    "df[\"number_of_words_in_tagline\"]= b\n",
    "\n",
    "#This line of code provides a dataframe with taglines less than or equal to 10\n",
    "good_taglines = df.query(\"number_of_words_in_tagline <=10\")\n",
    "\n",
    "#This line of code provides a dataframe with taglines greater to 10\n",
    "bad_taglines = df.query(\"number_of_words_in_tagline > 10\")\n",
    "\n",
    "#This line of code gives a list of the movies which have a good tagline\n",
    "good_taglines.original_title\n",
    "\n",
    "#This line of code gives a list of the movies which have a bad tagline\n",
    "bad_taglines.original_title"
   ]
  },
  {
   "cell_type": "markdown",
   "id": "98351799",
   "metadata": {},
   "source": [
    "**Movies with good taglines**"
   ]
  },
  {
   "cell_type": "code",
   "execution_count": 156,
   "id": "71bcca03",
   "metadata": {},
   "outputs": [
    {
     "data": {
      "text/plain": [
       "0                        Jurassic World\n",
       "1                    Mad Max: Fury Road\n",
       "2                             Insurgent\n",
       "3          Star Wars: The Force Awakens\n",
       "4                             Furious 7\n",
       "                      ...              \n",
       "10779                            Convoy\n",
       "10780    Invasion of the Body Snatchers\n",
       "10791                   Damien: Omen II\n",
       "10828                      Torn Curtain\n",
       "10829                         El Dorado\n",
       "Name: original_title, Length: 2762, dtype: object"
      ]
     },
     "execution_count": 156,
     "metadata": {},
     "output_type": "execute_result"
    }
   ],
   "source": [
    "good_taglines.original_title"
   ]
  },
  {
   "cell_type": "markdown",
   "id": "fe81996b",
   "metadata": {},
   "source": [
    "**Movies with bad taglines**"
   ]
  },
  {
   "cell_type": "code",
   "execution_count": 157,
   "id": "6323f45b",
   "metadata": {},
   "outputs": [
    {
     "data": {
      "text/plain": [
       "22                           San Andreas\n",
       "33                       Bridge of Spies\n",
       "97                              The DUFF\n",
       "111                          Dark Places\n",
       "183                                Aloha\n",
       "                      ...               \n",
       "10788                            The Wiz\n",
       "10793                     Watership Down\n",
       "10822    Who's Afraid of Virginia Woolf?\n",
       "10835                   The Sand Pebbles\n",
       "10848                   Fantastic Voyage\n",
       "Name: original_title, Length: 782, dtype: object"
      ]
     },
     "execution_count": 157,
     "metadata": {},
     "output_type": "execute_result"
    }
   ],
   "source": [
    "bad_taglines.original_title"
   ]
  },
  {
   "cell_type": "code",
   "execution_count": 158,
   "id": "98279f9e",
   "metadata": {},
   "outputs": [
    {
     "data": {
      "text/plain": [
       "1.3222753587979734"
      ]
     },
     "execution_count": 158,
     "metadata": {},
     "output_type": "execute_result"
    }
   ],
   "source": [
    "# Fidning the mean popularity of movies with good taglines.\n",
    "g1 = good_taglines.popularity.mean()\n",
    "\n",
    "# Fidning the mean popularity of movies with bad taglines.\n",
    "g2 = bad_taglines.popularity.mean()\n",
    "\n",
    "g1"
   ]
  },
  {
   "cell_type": "code",
   "execution_count": 159,
   "id": "5dd099eb",
   "metadata": {},
   "outputs": [
    {
     "data": {
      "text/plain": [
       "0.9927955115089517"
      ]
     },
     "execution_count": 159,
     "metadata": {},
     "output_type": "execute_result"
    }
   ],
   "source": [
    "g2"
   ]
  },
  {
   "cell_type": "code",
   "execution_count": 160,
   "id": "d5da01bb",
   "metadata": {},
   "outputs": [
    {
     "data": {
      "image/png": "[encoded data removed]",
      "text/plain": [
       "<Figure size 432x288 with 1 Axes>"
      ]
     },
     "metadata": {},
     "output_type": "display_data"
    }
   ],
   "source": [
    "# Using a pie chart to visualize the popularity of movies with good or bad taglines\n",
    "\n",
    "heights = [g2 ,g1]\n",
    "label = ['Movies with bad taglines', 'movies with good taglines']\n",
    "plt.pie(heights,labels=label,autopct='%1.1f%%',shadow = True)\n",
    "plt.title('Popularity of Movies with good taglines and bad taglines')\n",
    "plt.axis('equal')\n",
    "plt.show()"
   ]
  },
  {
   "cell_type": "markdown",
   "id": "27eb3fa6",
   "metadata": {},
   "source": [
    "**The pie chart reveals a much higher popularity for movies with good taglines than movies with bad taglines.This relationship expressed in percentage is, a 57.1% popularity for movies with good taglines and 42.9% for movies with bad taglines.** "
   ]
  },
  {
   "cell_type": "markdown",
   "id": "67a02731",
   "metadata": {},
   "source": [
    "### Q2 What is the most popular month for releasing movies?\n",
    "\n",
    "\n"
   ]
  },
  {
   "cell_type": "code",
   "execution_count": 161,
   "id": "945071a6",
   "metadata": {},
   "outputs": [],
   "source": [
    "#creating a new column for only the month number\n",
    "\n",
    "df['rel_month'] = pd.to_datetime(df['release_date']).dt.month\n",
    "\n",
    "\n",
    "# changing the numerical month number into strings using a lambda function\n",
    "df['rel_month'] = df['rel_month'].apply(lambda x: calendar.month_abbr[x])\n"
   ]
  },
  {
   "cell_type": "code",
   "execution_count": 162,
   "id": "6b76347b",
   "metadata": {},
   "outputs": [
    {
     "name": "stdout",
     "output_type": "stream",
     "text": [
      "<class 'pandas.core.frame.DataFrame'>\n",
      "Int64Index: 3544 entries, 0 to 10848\n",
      "Data columns (total 15 columns):\n",
      " #   Column                      Non-Null Count  Dtype         \n",
      "---  ------                      --------------  -----         \n",
      " 0   id                          3544 non-null   int64         \n",
      " 1   popularity                  3544 non-null   float64       \n",
      " 2   original_title              3544 non-null   object        \n",
      " 3   cast                        3544 non-null   object        \n",
      " 4   director                    3544 non-null   object        \n",
      " 5   tagline                     3544 non-null   object        \n",
      " 6   runtime                     3544 non-null   float64       \n",
      " 7   genres                      3544 non-null   object        \n",
      " 8   production_companies        3544 non-null   object        \n",
      " 9   release_date                3544 non-null   datetime64[ns]\n",
      " 10  release_year                3544 non-null   int64         \n",
      " 11  budget_adj                  3544 non-null   float64       \n",
      " 12  revenue_adj                 3544 non-null   float64       \n",
      " 13  number_of_words_in_tagline  3544 non-null   int64         \n",
      " 14  rel_month                   3544 non-null   object        \n",
      "dtypes: datetime64[ns](1), float64(4), int64(3), object(7)\n",
      "memory usage: 443.0+ KB\n"
     ]
    }
   ],
   "source": [
    "#checking the dataframe to see if the new column has been added, and also verify the string datatype of the new column.\n",
    "df.info()"
   ]
  },
  {
   "cell_type": "code",
   "execution_count": 163,
   "id": "7131bb93",
   "metadata": {
    "scrolled": true
   },
   "outputs": [
    {
     "data": {
      "text/plain": [
       "array(['Jun', 'May', 'Mar', 'Dec', 'Apr', 'Sep', 'Oct', 'Feb', 'Jan',\n",
       "       'Jul', 'Nov', 'Aug'], dtype=object)"
      ]
     },
     "execution_count": 163,
     "metadata": {},
     "output_type": "execute_result"
    }
   ],
   "source": [
    "#checking the unique months in the dataset\n",
    "df[\"rel_month\"].unique()"
   ]
  },
  {
   "cell_type": "code",
   "execution_count": 164,
   "id": "ebc05de7",
   "metadata": {},
   "outputs": [
    {
     "data": {
      "text/plain": [
       "rel_month\n",
       "Jan    198\n",
       "Feb    231\n",
       "Apr    248\n",
       "Mar    267\n",
       "May    267\n",
       "Nov    280\n",
       "Jul    295\n",
       "Aug    314\n",
       "Jun    322\n",
       "Oct    336\n",
       "Dec    377\n",
       "Sep    409\n",
       "Name: rel_month, dtype: int64"
      ]
     },
     "execution_count": 164,
     "metadata": {},
     "output_type": "execute_result"
    }
   ],
   "source": [
    "# grouping the dataframe based on the month of release of the movie, counting the number of times a movie has been released in a \n",
    "# particular month and storing it in a variable.\n",
    "\n",
    "pop_rel_month = df.groupby([\"rel_month\"]).rel_month.count().sort_values()\n",
    "\n",
    "# This variable contains the counts of all movies released in a particular month\n",
    "pop_rel_month"
   ]
  },
  {
   "cell_type": "code",
   "execution_count": 165,
   "id": "adcc5b3c",
   "metadata": {},
   "outputs": [
    {
     "data": {
      "image/png": "[encoded data removed]",
      "text/plain": [
       "<Figure size 648x432 with 1 Axes>"
      ]
     },
     "metadata": {},
     "output_type": "display_data"
    }
   ],
   "source": [
    "# plotting a bar graph to visualize the number of movies released each month\n",
    "\n",
    "plt.subplots(figsize=(9, 6))\n",
    "plt.barh(pop_rel_month.index, pop_rel_month)\n",
    "plt.title('Number of movies released in each month across all years')\n",
    "plt.xlabel('Months')\n",
    "plt.ylabel('Number of movies released');"
   ]
  },
  {
   "cell_type": "markdown",
   "id": "acb9a8c8",
   "metadata": {},
   "source": [
    "**The bar chart clearly shows that the month of September has the highest number of movies released in that month than any other month.With about four-hundred-nine (409) movies released in that month alone. The month of January had the least number of releases, with almost less than half the movies released in September**.  "
   ]
  },
  {
   "cell_type": "markdown",
   "id": "5902a219",
   "metadata": {},
   "source": [
    "# Q3. Does movie runtime affect budget?"
   ]
  },
  {
   "cell_type": "markdown",
   "id": "f458f2d1",
   "metadata": {},
   "source": [
    "***Taking a look at the mean runtime and budgets for all the movies in the datasets, to gain an idea of their distribution***"
   ]
  },
  {
   "cell_type": "code",
   "execution_count": 166,
   "id": "ff904876",
   "metadata": {},
   "outputs": [
    {
     "data": {
      "text/html": [
       "<div>\n",
       "<style scoped>\n",
       "    .dataframe tbody tr th:only-of-type {\n",
       "        vertical-align: middle;\n",
       "    }\n",
       "\n",
       "    .dataframe tbody tr th {\n",
       "        vertical-align: top;\n",
       "    }\n",
       "\n",
       "    .dataframe thead th {\n",
       "        text-align: right;\n",
       "    }\n",
       "</style>\n",
       "<table border=\"1\" class=\"dataframe\">\n",
       "  <thead>\n",
       "    <tr style=\"text-align: right;\">\n",
       "      <th></th>\n",
       "      <th>id</th>\n",
       "      <th>popularity</th>\n",
       "      <th>runtime</th>\n",
       "      <th>release_year</th>\n",
       "      <th>budget_adj</th>\n",
       "      <th>revenue_adj</th>\n",
       "      <th>number_of_words_in_tagline</th>\n",
       "    </tr>\n",
       "  </thead>\n",
       "  <tbody>\n",
       "    <tr>\n",
       "      <th>count</th>\n",
       "      <td>3544.000000</td>\n",
       "      <td>3544.000000</td>\n",
       "      <td>3544.000000</td>\n",
       "      <td>3544.000000</td>\n",
       "      <td>3.544000e+03</td>\n",
       "      <td>3.544000e+03</td>\n",
       "      <td>3544.000000</td>\n",
       "    </tr>\n",
       "    <tr>\n",
       "      <th>mean</th>\n",
       "      <td>39203.165914</td>\n",
       "      <td>1.249574</td>\n",
       "      <td>109.239560</td>\n",
       "      <td>2001.163657</td>\n",
       "      <td>4.626151e+07</td>\n",
       "      <td>1.456888e+08</td>\n",
       "      <td>7.986738</td>\n",
       "    </tr>\n",
       "    <tr>\n",
       "      <th>std</th>\n",
       "      <td>66688.101410</td>\n",
       "      <td>1.518328</td>\n",
       "      <td>19.628584</td>\n",
       "      <td>11.323946</td>\n",
       "      <td>4.545013e+07</td>\n",
       "      <td>2.216669e+08</td>\n",
       "      <td>4.638205</td>\n",
       "    </tr>\n",
       "    <tr>\n",
       "      <th>min</th>\n",
       "      <td>5.000000</td>\n",
       "      <td>0.010335</td>\n",
       "      <td>26.000000</td>\n",
       "      <td>1960.000000</td>\n",
       "      <td>9.693980e-01</td>\n",
       "      <td>2.861934e+00</td>\n",
       "      <td>1.000000</td>\n",
       "    </tr>\n",
       "    <tr>\n",
       "      <th>25%</th>\n",
       "      <td>5250.250000</td>\n",
       "      <td>0.495968</td>\n",
       "      <td>96.000000</td>\n",
       "      <td>1995.000000</td>\n",
       "      <td>1.454097e+07</td>\n",
       "      <td>2.235019e+07</td>\n",
       "      <td>5.000000</td>\n",
       "    </tr>\n",
       "    <tr>\n",
       "      <th>50%</th>\n",
       "      <td>11058.500000</td>\n",
       "      <td>0.863480</td>\n",
       "      <td>106.000000</td>\n",
       "      <td>2004.000000</td>\n",
       "      <td>3.170397e+07</td>\n",
       "      <td>6.902453e+07</td>\n",
       "      <td>7.000000</td>\n",
       "    </tr>\n",
       "    <tr>\n",
       "      <th>75%</th>\n",
       "      <td>38321.250000</td>\n",
       "      <td>1.439614</td>\n",
       "      <td>119.000000</td>\n",
       "      <td>2010.000000</td>\n",
       "      <td>6.314258e+07</td>\n",
       "      <td>1.755785e+08</td>\n",
       "      <td>10.000000</td>\n",
       "    </tr>\n",
       "    <tr>\n",
       "      <th>max</th>\n",
       "      <td>417859.000000</td>\n",
       "      <td>32.985763</td>\n",
       "      <td>338.000000</td>\n",
       "      <td>2015.000000</td>\n",
       "      <td>4.250000e+08</td>\n",
       "      <td>2.827124e+09</td>\n",
       "      <td>49.000000</td>\n",
       "    </tr>\n",
       "  </tbody>\n",
       "</table>\n",
       "</div>"
      ],
      "text/plain": [
       "                  id   popularity      runtime  release_year    budget_adj  \\\n",
       "count    3544.000000  3544.000000  3544.000000   3544.000000  3.544000e+03   \n",
       "mean    39203.165914     1.249574   109.239560   2001.163657  4.626151e+07   \n",
       "std     66688.101410     1.518328    19.628584     11.323946  4.545013e+07   \n",
       "min         5.000000     0.010335    26.000000   1960.000000  9.693980e-01   \n",
       "25%      5250.250000     0.495968    96.000000   1995.000000  1.454097e+07   \n",
       "50%     11058.500000     0.863480   106.000000   2004.000000  3.170397e+07   \n",
       "75%     38321.250000     1.439614   119.000000   2010.000000  6.314258e+07   \n",
       "max    417859.000000    32.985763   338.000000   2015.000000  4.250000e+08   \n",
       "\n",
       "        revenue_adj  number_of_words_in_tagline  \n",
       "count  3.544000e+03                 3544.000000  \n",
       "mean   1.456888e+08                    7.986738  \n",
       "std    2.216669e+08                    4.638205  \n",
       "min    2.861934e+00                    1.000000  \n",
       "25%    2.235019e+07                    5.000000  \n",
       "50%    6.902453e+07                    7.000000  \n",
       "75%    1.755785e+08                   10.000000  \n",
       "max    2.827124e+09                   49.000000  "
      ]
     },
     "execution_count": 166,
     "metadata": {},
     "output_type": "execute_result"
    }
   ],
   "source": [
    "df.describe()"
   ]
  },
  {
   "cell_type": "code",
   "execution_count": 167,
   "id": "fa415382",
   "metadata": {},
   "outputs": [
    {
     "data": {
      "image/png": "[encoded data removed]",
      "text/plain": [
       "<Figure size 576x576 with 1 Axes>"
      ]
     },
     "metadata": {},
     "output_type": "display_data"
    }
   ],
   "source": [
    "# Using a scatter plot to see if there is a correlation between budget and movie runtime\n",
    "\n",
    "df.plot(x='runtime', y= 'budget_adj', kind = 'scatter', title = \"Correlation between Movie runtime and budget\", figsize = (8,8));"
   ]
  },
  {
   "cell_type": "markdown",
   "id": "21568152",
   "metadata": {},
   "source": [
    "**The scatter plot reveals a positive correlation between movie budget and runtime. As the runtime increases the budget of the movies increases. There are some outliers also present in the plot. Particularly for some movies with longer runtimes but with a very small budget**."
   ]
  },
  {
   "cell_type": "code",
   "execution_count": 168,
   "id": "973348bf",
   "metadata": {},
   "outputs": [],
   "source": [
    "# Lets go a step further in answering the question, lets compare the mean of the budget two movie groups. One with longer runtime\n",
    "#and one with shorter runtime.\n",
    "\n",
    "#creating a dataframe for movies with long runtime\n",
    "long_runtime = df.query('runtime > runtime.mean()')\n",
    "\n",
    "# finding the mean budget of the movies with longer runtime\n",
    "x = long_runtime[\"budget_adj\"].mean()"
   ]
  },
  {
   "cell_type": "code",
   "execution_count": 169,
   "id": "99577567",
   "metadata": {},
   "outputs": [],
   "source": [
    "#creating a dataframe for movies with short runtime\n",
    "short_runtime = df.query('runtime <= runtime.mean()')\n",
    "\n",
    "# finding the mean budget of the movies with shorter runtime\n",
    "y = short_runtime[\"budget_adj\"].mean()"
   ]
  },
  {
   "cell_type": "code",
   "execution_count": 170,
   "id": "0b3ce41e",
   "metadata": {
    "scrolled": true
   },
   "outputs": [
    {
     "data": {
      "image/png": "[encoded data removed]",
      "text/plain": [
       "<Figure size 432x288 with 1 Axes>"
      ]
     },
     "metadata": {},
     "output_type": "display_data"
    }
   ],
   "source": [
    "# plotting a bar graph to visualize the comparison of the mean budget of the two movie groups.\n",
    "\n",
    "locations = [1, 2]\n",
    "heights = [y ,x]\n",
    "labels = ['Short', 'long']\n",
    "plt.bar(locations, heights, tick_label=labels,color = [\"maroon\",\"Aquamarine\"],alpha = 0.7)\n",
    "plt.title('Buget of movies with longer runtimes vs shorter runtimes')\n",
    "plt.xlabel('$ Budget in Millions')\n",
    "plt.ylabel('Movie Runtime');"
   ]
  },
  {
   "cell_type": "markdown",
   "id": "a39fa212",
   "metadata": {},
   "source": [
    "**The buget of movies with long and short runtimes were compared using this bar chart.The chart clearly shows that movies with longer runtimes have bigger budgets than those with shorter runtimes, with longer runtimes having a average budget of about 60,42,198 dollars and shorter runtimes with average budget of 36,349,623 dollars**."
   ]
  },
  {
   "cell_type": "code",
   "execution_count": 171,
   "id": "36041405",
   "metadata": {},
   "outputs": [
    {
     "data": {
      "text/plain": [
       "array([2015, 2014, 1977, 2009, 2010, 1999, 2001, 2008, 2011, 2002, 1994,\n",
       "       2012, 2003, 1997, 2013, 1985, 2005, 2006, 2004, 1972, 1980, 2007,\n",
       "       1979, 1984, 1983, 1995, 1992, 1981, 1996, 2000, 1982, 1998, 1989,\n",
       "       1991, 1988, 1987, 1968, 1974, 1975, 1962, 1964, 1971, 1990, 1961,\n",
       "       1960, 1976, 1993, 1967, 1963, 1986, 1973, 1970, 1965, 1969, 1978,\n",
       "       1966], dtype=int64)"
      ]
     },
     "execution_count": 171,
     "metadata": {},
     "output_type": "execute_result"
    }
   ],
   "source": [
    "df.release_year.unique()"
   ]
  },
  {
   "cell_type": "code",
   "execution_count": null,
   "id": "ec3cc4c2",
   "metadata": {},
   "outputs": [],
   "source": []
  },
  {
   "cell_type": "markdown",
   "id": "5bcd0cfd",
   "metadata": {},
   "source": [
    "# CONCLUSIONS"
   ]
  },
  {
   "cell_type": "markdown",
   "id": "7f7f8740",
   "metadata": {},
   "source": [
    "**Out of the 7,635 movies in the dataset, 1,740 movies had good taglines.A movie with a good tagline is expected to have average length of 3 to 10 words.The mean popularity of movies with a good tagline is 0.18 higher than movies with bad tag lines. From the analysis it can also be concluded that september is the most popular month for releasing movies.A sccatter plot was used in an attempt to visualize the correlation between movie runtime and buget. There seemed to be positive correlation between budget and movie runtime.Further analysis was done to properly answer the question by comparing the budget of movies with shorter runtime to movies with longer runtimes.It was discovered that,movies with longer runtimes have bigger budgets than those with shorter runtimes. From the analysis the budgets of movies with longer runtime was $21,986,295 higher than those with shorter runtimes**. "
   ]
  },
  {
   "cell_type": "markdown",
   "id": "0e85c28c",
   "metadata": {},
   "source": [
    "# LIMITATIONS"
   ]
  },
  {
   "cell_type": "markdown",
   "id": "b0b77259",
   "metadata": {},
   "source": [
    "**One major limitation I ecountered was the number of zero values in the dataframe,especially in the numerical columns \n",
    "that were crucial to my analysis. This slowed down the analysis of the dataset because it took a while to remove them**."
   ]
  }
 ],
 "metadata": {
  "kernelspec": {
   "display_name": "Python 3 (ipykernel)",
   "language": "python",
   "name": "python3"
  },
  "language_info": {
   "codemirror_mode": {
    "name": "ipython",
    "version": 3
   },
   "file_extension": ".py",
   "mimetype": "text/x-python",
   "name": "python",
   "nbconvert_exporter": "python",
   "pygments_lexer": "ipython3",
   "version": "3.9.12"
  }
 },
 "nbformat": 4,
 "nbformat_minor": 5
}
